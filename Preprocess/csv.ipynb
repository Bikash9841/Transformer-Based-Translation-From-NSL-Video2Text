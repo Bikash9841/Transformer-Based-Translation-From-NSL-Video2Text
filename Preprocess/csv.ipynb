{
 "cells": [
  {
   "cell_type": "code",
   "execution_count": 1,
   "metadata": {},
   "outputs": [],
   "source": [
    "import os\n",
    "import pandas as pd"
   ]
  },
  {
   "cell_type": "code",
   "execution_count": 2,
   "metadata": {},
   "outputs": [
    {
     "data": {
      "text/plain": [
       "['म तिम्रो पैसा खान्छु ।',\n",
       " 'तिम्रो काम छैन पैसा छैन ।',\n",
       " 'तिमी हरु मेरो साथी हो ।',\n",
       " 'तिमी संग अण्डा छैन ।',\n",
       " 'म घर मा धेरै काम गर्छु ।',\n",
       " 'म लाई भक्तपुर मनपर्छ ।',\n",
       " 'मेरो साथी लाई अण्डा मनपर्छ ।',\n",
       " 'मेरो साथी धेरै भक्तपुर मा छन् ।',\n",
       " 'म लाई अण्डा मनपर्छ ।',\n",
       " 'म संग धेरै पैसा छैन ।',\n",
       " 'भक्तपुर मा धेरै काम छ ।',\n",
       " 'मेरो धेरै साथी हरु छन् ।',\n",
       " 'मेरो घर भक्तपुर मा छ ।',\n",
       " 'तिम्रो काम धेरै छ ।',\n",
       " 'म संग मेरो साथी छ ।',\n",
       " 'म भक्तपुर मा काम गर्छु ।',\n",
       " 'म अण्डा खान्छु ।',\n",
       " 'म संग अण्डा छैन ।',\n",
       " 'तिम्रो काम हरु म लाई छैन ।',\n",
       " 'तिमी म लाई मनपर्छ ।']"
      ]
     },
     "execution_count": 2,
     "metadata": {},
     "output_type": "execute_result"
    }
   ],
   "source": [
    "directory_path='nprocessed_data'\n",
    "\n",
    "\n",
    "os.listdir(directory_path)"
   ]
  },
  {
   "cell_type": "code",
   "execution_count": 3,
   "metadata": {},
   "outputs": [],
   "source": [
    "\n",
    "import os\n",
    "\n",
    "lst = []\n",
    "def list_files_recursive(path='.'):\n",
    "    for entry in os.listdir(path):\n",
    "        full_path = os.path.join(path, entry)\n",
    "        if os.path.isdir(full_path):\n",
    "            list_files_recursive(full_path)\n",
    "        else:\n",
    "            lst.append(full_path)\n",
    " \n",
    "# Specify the directory path you want to start from\n",
    "list_files_recursive(directory_path)"
   ]
  },
  {
   "cell_type": "code",
   "execution_count": 4,
   "metadata": {},
   "outputs": [],
   "source": [
    "df = pd.DataFrame(lst, columns = ['video_name'])"
   ]
  },
  {
   "cell_type": "code",
   "execution_count": 5,
   "metadata": {},
   "outputs": [
    {
     "data": {
      "text/plain": [
       "0      nprocessed_data/म तिम्रो पैसा खान्छु ।/17_12.mp4\n",
       "1       nprocessed_data/म तिम्रो पैसा खान्छु ।/17_5.mp4\n",
       "2       nprocessed_data/म तिम्रो पैसा खान्छु ।/17_1.mp4\n",
       "3      nprocessed_data/म तिम्रो पैसा खान्छु ।/17_11.mp4\n",
       "4       nprocessed_data/म तिम्रो पैसा खान्छु ।/17_7.mp4\n",
       "                             ...                       \n",
       "600       nprocessed_data/तिमी म लाई मनपर्छ ।/14_16.mp4\n",
       "601        nprocessed_data/तिमी म लाई मनपर्छ ।/14_7.mp4\n",
       "602        nprocessed_data/तिमी म लाई मनपर्छ ।/14_6.mp4\n",
       "603      nprocessed_data/तिमी म लाई मनपर्छ ।/f_14_9.mp4\n",
       "604      nprocessed_data/तिमी म लाई मनपर्छ ।/f_14_3.mp4\n",
       "Name: video_name, Length: 605, dtype: object"
      ]
     },
     "execution_count": 5,
     "metadata": {},
     "output_type": "execute_result"
    }
   ],
   "source": [
    "df['video_name']"
   ]
  },
  {
   "cell_type": "code",
   "execution_count": 6,
   "metadata": {},
   "outputs": [],
   "source": [
    "df['label'] = df.iloc[:,0].apply(lambda x: x.split('/')[1])\n",
    "df = df.sample(frac=1).reset_index(drop=True)"
   ]
  },
  {
   "cell_type": "code",
   "execution_count": 7,
   "metadata": {},
   "outputs": [
    {
     "data": {
      "text/html": [
       "<div>\n",
       "<style scoped>\n",
       "    .dataframe tbody tr th:only-of-type {\n",
       "        vertical-align: middle;\n",
       "    }\n",
       "\n",
       "    .dataframe tbody tr th {\n",
       "        vertical-align: top;\n",
       "    }\n",
       "\n",
       "    .dataframe thead th {\n",
       "        text-align: right;\n",
       "    }\n",
       "</style>\n",
       "<table border=\"1\" class=\"dataframe\">\n",
       "  <thead>\n",
       "    <tr style=\"text-align: right;\">\n",
       "      <th></th>\n",
       "      <th>video_name</th>\n",
       "      <th>label</th>\n",
       "    </tr>\n",
       "  </thead>\n",
       "  <tbody>\n",
       "    <tr>\n",
       "      <th>0</th>\n",
       "      <td>nprocessed_data/मेरो साथी धेरै भक्तपुर मा छन् ...</td>\n",
       "      <td>मेरो साथी धेरै भक्तपुर मा छन् ।</td>\n",
       "    </tr>\n",
       "    <tr>\n",
       "      <th>1</th>\n",
       "      <td>nprocessed_data/मेरो धेरै साथी हरु छन् ।/5_13.mp4</td>\n",
       "      <td>मेरो धेरै साथी हरु छन् ।</td>\n",
       "    </tr>\n",
       "    <tr>\n",
       "      <th>2</th>\n",
       "      <td>nprocessed_data/तिमी म लाई मनपर्छ ।/14_1.mp4</td>\n",
       "      <td>तिमी म लाई मनपर्छ ।</td>\n",
       "    </tr>\n",
       "    <tr>\n",
       "      <th>3</th>\n",
       "      <td>nprocessed_data/मेरो साथी धेरै भक्तपुर मा छन् ...</td>\n",
       "      <td>मेरो साथी धेरै भक्तपुर मा छन् ।</td>\n",
       "    </tr>\n",
       "    <tr>\n",
       "      <th>4</th>\n",
       "      <td>nprocessed_data/म संग धेरै पैसा छैन ।/3_12.mp4</td>\n",
       "      <td>म संग धेरै पैसा छैन ।</td>\n",
       "    </tr>\n",
       "    <tr>\n",
       "      <th>...</th>\n",
       "      <td>...</td>\n",
       "      <td>...</td>\n",
       "    </tr>\n",
       "    <tr>\n",
       "      <th>600</th>\n",
       "      <td>nprocessed_data/म अण्डा खान्छु ।/f_11_4.mp4</td>\n",
       "      <td>म अण्डा खान्छु ।</td>\n",
       "    </tr>\n",
       "    <tr>\n",
       "      <th>601</th>\n",
       "      <td>nprocessed_data/म संग अण्डा छैन ।/19_8.mp4</td>\n",
       "      <td>म संग अण्डा छैन ।</td>\n",
       "    </tr>\n",
       "    <tr>\n",
       "      <th>602</th>\n",
       "      <td>nprocessed_data/तिम्रो काम छैन पैसा छैन ।/f_18...</td>\n",
       "      <td>तिम्रो काम छैन पैसा छैन ।</td>\n",
       "    </tr>\n",
       "    <tr>\n",
       "      <th>603</th>\n",
       "      <td>nprocessed_data/तिमी हरु मेरो साथी हो ।/f_15_1...</td>\n",
       "      <td>तिमी हरु मेरो साथी हो ।</td>\n",
       "    </tr>\n",
       "    <tr>\n",
       "      <th>604</th>\n",
       "      <td>nprocessed_data/तिम्रो काम धेरै छ ।/13_14.mp4</td>\n",
       "      <td>तिम्रो काम धेरै छ ।</td>\n",
       "    </tr>\n",
       "  </tbody>\n",
       "</table>\n",
       "<p>605 rows × 2 columns</p>\n",
       "</div>"
      ],
      "text/plain": [
       "                                            video_name  \\\n",
       "0    nprocessed_data/मेरो साथी धेरै भक्तपुर मा छन् ...   \n",
       "1    nprocessed_data/मेरो धेरै साथी हरु छन् ।/5_13.mp4   \n",
       "2         nprocessed_data/तिमी म लाई मनपर्छ ।/14_1.mp4   \n",
       "3    nprocessed_data/मेरो साथी धेरै भक्तपुर मा छन् ...   \n",
       "4       nprocessed_data/म संग धेरै पैसा छैन ।/3_12.mp4   \n",
       "..                                                 ...   \n",
       "600        nprocessed_data/म अण्डा खान्छु ।/f_11_4.mp4   \n",
       "601         nprocessed_data/म संग अण्डा छैन ।/19_8.mp4   \n",
       "602  nprocessed_data/तिम्रो काम छैन पैसा छैन ।/f_18...   \n",
       "603  nprocessed_data/तिमी हरु मेरो साथी हो ।/f_15_1...   \n",
       "604      nprocessed_data/तिम्रो काम धेरै छ ।/13_14.mp4   \n",
       "\n",
       "                               label  \n",
       "0    मेरो साथी धेरै भक्तपुर मा छन् ।  \n",
       "1           मेरो धेरै साथी हरु छन् ।  \n",
       "2                तिमी म लाई मनपर्छ ।  \n",
       "3    मेरो साथी धेरै भक्तपुर मा छन् ।  \n",
       "4              म संग धेरै पैसा छैन ।  \n",
       "..                               ...  \n",
       "600                 म अण्डा खान्छु ।  \n",
       "601                म संग अण्डा छैन ।  \n",
       "602        तिम्रो काम छैन पैसा छैन ।  \n",
       "603          तिमी हरु मेरो साथी हो ।  \n",
       "604              तिम्रो काम धेरै छ ।  \n",
       "\n",
       "[605 rows x 2 columns]"
      ]
     },
     "execution_count": 7,
     "metadata": {},
     "output_type": "execute_result"
    }
   ],
   "source": [
    "df"
   ]
  },
  {
   "cell_type": "code",
   "execution_count": 8,
   "metadata": {},
   "outputs": [],
   "source": [
    "df.to_csv('train.csv', index=False)"
   ]
  }
 ],
 "metadata": {
  "kernelspec": {
   "display_name": "CCTV_Surveillance",
   "language": "python",
   "name": "python3"
  },
  "language_info": {
   "codemirror_mode": {
    "name": "ipython",
    "version": 3
   },
   "file_extension": ".py",
   "mimetype": "text/x-python",
   "name": "python",
   "nbconvert_exporter": "python",
   "pygments_lexer": "ipython3",
   "version": "3.12.3"
  }
 },
 "nbformat": 4,
 "nbformat_minor": 2
}
