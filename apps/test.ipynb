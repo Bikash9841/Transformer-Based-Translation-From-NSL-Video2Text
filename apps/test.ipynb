{
 "cells": [
  {
   "cell_type": "code",
   "execution_count": null,
   "metadata": {},
   "outputs": [],
   "source": [
    "import torch\n",
    "\n",
    "m=torch.load('39_mtrain.pt',map_location=torch.device('cpu'))\n"
   ]
  },
  {
   "cell_type": "code",
   "execution_count": null,
   "metadata": {},
   "outputs": [],
   "source": [
    "m.keys()"
   ]
  },
  {
   "cell_type": "code",
   "execution_count": null,
   "metadata": {},
   "outputs": [],
   "source": [
    "import matplotlib.pyplot as plt \n",
    "\n",
    "\n",
    "plt.plot(m['train_loss'],label='train')\n",
    "plt.plot(m['val_loss'],label='validation')\n",
    "\n",
    "plt.title('Loss Curve')\n",
    "plt.legend()\n",
    "plt.show()"
   ]
  },
  {
   "cell_type": "code",
   "execution_count": null,
   "metadata": {},
   "outputs": [],
   "source": [
    "plt.plot(m['t_wer'],label='train')\n",
    "plt.plot(m['v_wer'],label='validation')\n",
    "\n",
    "plt.title('Word Error Rate')\n",
    "plt.legend()\n",
    "plt.show()"
   ]
  },
  {
   "cell_type": "code",
   "execution_count": 48,
   "metadata": {},
   "outputs": [
    {
     "ename": "StopIteration",
     "evalue": "",
     "output_type": "error",
     "traceback": [
      "\u001b[0;31m---------------------------------------------------------------------------\u001b[0m",
      "\u001b[0;31mStopIteration\u001b[0m                             Traceback (most recent call last)",
      "\u001b[1;32m/home/bikasherl/Desktop/Final_Project_Bajra/apps/test.ipynb Cell 5\u001b[0m line \u001b[0;36m5\n\u001b[1;32m     <a href='vscode-notebook-cell:/home/bikasherl/Desktop/Final_Project_Bajra/apps/test.ipynb#W4sZmlsZQ%3D%3D?line=40'>41</a>\u001b[0m labeled_video_paths \u001b[39m=\u001b[39m [(\u001b[39m\"\u001b[39m\u001b[39m/home/bikasherl/Desktop/Final_Project_Bajra/apps/uploaded_videos/2_1c.mp4\u001b[39m\u001b[39m\"\u001b[39m, {\u001b[39m\"\u001b[39m\u001b[39mlabel\u001b[39m\u001b[39m\"\u001b[39m: \u001b[39m2\u001b[39m})]\n\u001b[1;32m     <a href='vscode-notebook-cell:/home/bikasherl/Desktop/Final_Project_Bajra/apps/test.ipynb#W4sZmlsZQ%3D%3D?line=43'>44</a>\u001b[0m infer_dataset \u001b[39m=\u001b[39m pytorchvideo\u001b[39m.\u001b[39mdata\u001b[39m.\u001b[39mLabeledVideoDataset(\n\u001b[1;32m     <a href='vscode-notebook-cell:/home/bikasherl/Desktop/Final_Project_Bajra/apps/test.ipynb#W4sZmlsZQ%3D%3D?line=44'>45</a>\u001b[0m     labeled_video_paths\u001b[39m=\u001b[39mlabeled_video_paths,\n\u001b[1;32m     <a href='vscode-notebook-cell:/home/bikasherl/Desktop/Final_Project_Bajra/apps/test.ipynb#W4sZmlsZQ%3D%3D?line=45'>46</a>\u001b[0m     clip_sampler\u001b[39m=\u001b[39mpytorchvideo\u001b[39m.\u001b[39mdata\u001b[39m.\u001b[39mmake_clip_sampler(\u001b[39m\"\u001b[39m\u001b[39mrandom\u001b[39m\u001b[39m\"\u001b[39m, \u001b[39m5\u001b[39m),\n\u001b[1;32m     <a href='vscode-notebook-cell:/home/bikasherl/Desktop/Final_Project_Bajra/apps/test.ipynb#W4sZmlsZQ%3D%3D?line=46'>47</a>\u001b[0m     decode_audio\u001b[39m=\u001b[39m\u001b[39mFalse\u001b[39;00m,\n\u001b[1;32m     <a href='vscode-notebook-cell:/home/bikasherl/Desktop/Final_Project_Bajra/apps/test.ipynb#W4sZmlsZQ%3D%3D?line=47'>48</a>\u001b[0m     transform\u001b[39m=\u001b[39mval_transform,\n\u001b[1;32m     <a href='vscode-notebook-cell:/home/bikasherl/Desktop/Final_Project_Bajra/apps/test.ipynb#W4sZmlsZQ%3D%3D?line=48'>49</a>\u001b[0m )\n\u001b[0;32m---> <a href='vscode-notebook-cell:/home/bikasherl/Desktop/Final_Project_Bajra/apps/test.ipynb#W4sZmlsZQ%3D%3D?line=50'>51</a>\u001b[0m \u001b[39mnext\u001b[39;49m(\u001b[39miter\u001b[39;49m(infer_dataset))\n",
      "File \u001b[0;32m~/miniconda3/envs/bajra_pro/lib/python3.9/site-packages/pytorchvideo/data/labeled_video_dataset.py:132\u001b[0m, in \u001b[0;36mLabeledVideoDataset.__next__\u001b[0;34m(self)\u001b[0m\n\u001b[1;32m    130\u001b[0m     video, info_dict, video_index \u001b[39m=\u001b[39m \u001b[39mself\u001b[39m\u001b[39m.\u001b[39m_loaded_video_label\n\u001b[1;32m    131\u001b[0m \u001b[39melse\u001b[39;00m:\n\u001b[0;32m--> 132\u001b[0m     video_index \u001b[39m=\u001b[39m \u001b[39mnext\u001b[39;49m(\u001b[39mself\u001b[39;49m\u001b[39m.\u001b[39;49m_video_sampler_iter)\n\u001b[1;32m    133\u001b[0m     \u001b[39mtry\u001b[39;00m:\n\u001b[1;32m    134\u001b[0m         video_path, info_dict \u001b[39m=\u001b[39m \u001b[39mself\u001b[39m\u001b[39m.\u001b[39m_labeled_videos[video_index]\n",
      "\u001b[0;31mStopIteration\u001b[0m: "
     ]
    }
   ],
   "source": [
    "from torch.utils.data import DataLoader\n",
    "import pytorchvideo.data\n",
    "\n",
    "\n",
    "from pytorchvideo.transforms import (\n",
    "    ApplyTransformToKey,\n",
    "    Normalize,\n",
    "    UniformTemporalSubsample,\n",
    ")\n",
    "\n",
    "from torchvision.transforms import (\n",
    "    Compose,\n",
    "    Lambda,\n",
    "    Resize,\n",
    ")\n",
    "\n",
    "def normalize(x):\n",
    "    return x/255.0\n",
    "\n",
    "resize_to = (224, 224)\n",
    "mean = [0.5, 0.5, 0.5]\n",
    "std = [0.5, 0.5, 0.5]\n",
    "\n",
    "val_transform = Compose(\n",
    "    [\n",
    "        ApplyTransformToKey(\n",
    "            key=\"video\",\n",
    "            transform=Compose(\n",
    "                [\n",
    "                    UniformTemporalSubsample(32),\n",
    "                    Lambda(normalize),\n",
    "                    Normalize(mean, std),\n",
    "                    Resize(resize_to),\n",
    "                ]\n",
    "            ),\n",
    "        ),\n",
    "\n",
    "    ]\n",
    ")\n",
    "\n",
    "labeled_video_paths = [(\"/home/bikasherl/Desktop/Final_Project_Bajra/apps/uploaded_videos/2_1c.mp4\", {\"label\": 2})]\n",
    "\n",
    "\n",
    "infer_dataset = pytorchvideo.data.LabeledVideoDataset(\n",
    "    labeled_video_paths=labeled_video_paths,\n",
    "    clip_sampler=pytorchvideo.data.make_clip_sampler(\"random\", 5),\n",
    "    decode_audio=False,\n",
    "    transform=val_transform,\n",
    ")\n",
    "\n",
    "next(iter(infer_dataset))"
   ]
  },
  {
   "cell_type": "code",
   "execution_count": null,
   "metadata": {},
   "outputs": [],
   "source": [
    "pytorchvideo.data.RandomClipSampler(,)"
   ]
  }
 ],
 "metadata": {
  "kernelspec": {
   "display_name": "bajra",
   "language": "python",
   "name": "python3"
  },
  "language_info": {
   "codemirror_mode": {
    "name": "ipython",
    "version": 3
   },
   "file_extension": ".py",
   "mimetype": "text/x-python",
   "name": "python",
   "nbconvert_exporter": "python",
   "pygments_lexer": "ipython3",
   "version": "3.9.13"
  }
 },
 "nbformat": 4,
 "nbformat_minor": 2
}
